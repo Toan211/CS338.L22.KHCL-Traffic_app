{
 "cells": [
  {
   "cell_type": "code",
   "execution_count": 1,
   "id": "2fceb949-0315-4c4c-bc3f-79443168c93a",
   "metadata": {},
   "outputs": [],
   "source": [
    "import tkinter as tk\n",
    "from tkinter import filedialog\n",
    "from tkinter import *\n",
    "from PIL import ImageTk, Image\n",
    "import numpy as np \n",
    "\n",
    "import numpy\n",
    "#load the trained model to classify sign\n",
    "from tensorflow.keras.models import load_model\n",
    "model = load_model('traffic_classifier_main64_model.h5')\n",
    "\n",
    "#dictionary to label all traffic signs class.\n",
    "classes = { 1:'Speed limit (20km/h)',\n",
    "            2:'Speed limit (30km/h)',      \n",
    "            3:'Speed limit (50km/h)',       \n",
    "            4:'Speed limit (60km/h)',      \n",
    "            5:'Speed limit (70km/h)',    \n",
    "            6:'Speed limit (80km/h)',      \n",
    "            7:'End of speed limit (80km/h)',     \n",
    "            8:'Speed limit (100km/h)',    \n",
    "            9:'Speed limit (120km/h)',     \n",
    "           10:'No passing',   \n",
    "           11:'No passing veh over 3.5 tons',     \n",
    "           12:'Right-of-way at intersection',     \n",
    "           13:'Priority road',    \n",
    "           14:'Yield',     \n",
    "           15:'Stop',       \n",
    "           16:'No vehicles',       \n",
    "           17:'Vehice > 3.5 tons prohibited',       \n",
    "           18:'No entry',       \n",
    "           19:'General caution',     \n",
    "           20:'Dangerous curve left',      \n",
    "           21:'Dangerous curve right',   \n",
    "           22:'Double curve',      \n",
    "           23:'Bumpy road',     \n",
    "           24:'Slippery road',       \n",
    "           25:'Road narrows on the right',  \n",
    "           26:'Road work',    \n",
    "           27:'Traffic signals',      \n",
    "           28:'Pedestrians',     \n",
    "           29:'Children crossing',     \n",
    "           30:'Bicycles crossing',       \n",
    "           31:'Beware of ice/snow',\n",
    "           32:'Wild animals crossing',      \n",
    "           33:'End speed + passing limits',      \n",
    "           34:'Turn right ahead',     \n",
    "           35:'Turn left ahead',       \n",
    "           36:'Ahead only',      \n",
    "           37:'Go straight or right',      \n",
    "           38:'Go straight or left',      \n",
    "           39:'Keep right',     \n",
    "           40:'Keep left',      \n",
    "           41:'Roundabout mandatory',     \n",
    "           42:'End of no passing',      \n",
    "           43:'End no passing veh > 3.5 tons' }\n",
    "                 "
   ]
  },
  {
   "cell_type": "code",
   "execution_count": 2,
   "id": "9b4b9814-57ca-4a3c-8823-1e0faafd0621",
   "metadata": {},
   "outputs": [],
   "source": [
    "#initialise GUI\n",
    "top=tk.Tk()\n",
    "top.geometry('800x600')\n",
    "top.title('Traffic sign classification')\n",
    "top.configure(background='#CDCDCD')\n",
    "\n",
    "label=Label(top,background='#CDCDCD',foreground='black', font=('arial',20,'bold'))\n",
    "sign_image = Label(top)"
   ]
  },
  {
   "cell_type": "code",
   "execution_count": 3,
   "id": "5c3a0582-ae5e-488c-acf8-e400c05a99f1",
   "metadata": {},
   "outputs": [],
   "source": [
    "def classify(file_path):\n",
    "    global label_packed\n",
    "    image = Image.open(file_path)\n",
    "    image = image.convert('RGB')\n",
    "    image = image.resize((64,64))\n",
    "    image = numpy.expand_dims(image, axis=0)\n",
    "    image = numpy.array(image)\n",
    "    print(image.shape)\n",
    "    pred = np.argmax(model.predict([image]), axis=-1)[0]\n",
    "    sign = classes[pred+1]\n",
    "    print(sign)\n",
    "    label.configure(foreground='#011638', text=sign) "
   ]
  },
  {
   "cell_type": "code",
   "execution_count": 4,
   "id": "7e351692-a7d5-409a-9a75-6b59f7bbdfa3",
   "metadata": {},
   "outputs": [],
   "source": [
    "def show_classify_button(file_path):\n",
    "    classify_b=Button(top,text=\"Predict image\",command=lambda: classify(file_path),padx=15,pady=5)\n",
    "    classify_b.configure(background='black', foreground='white',font=('arial',15,'bold'))\n",
    "    classify_b.place(relx=0.75,rely=0.46)\n"
   ]
  },
  {
   "cell_type": "code",
   "execution_count": 5,
   "id": "f13f4a3f-1632-4c8e-80ef-107789d4a0dc",
   "metadata": {},
   "outputs": [],
   "source": [
    "def upload_image():\n",
    "    try:\n",
    "        file_path=filedialog.askopenfilename()\n",
    "        uploaded=Image.open(file_path)\n",
    "        uploaded.thumbnail(((top.winfo_width()/2.25),(top.winfo_height()/2.25)))\n",
    "        im=ImageTk.PhotoImage(uploaded)\n",
    "        \n",
    "        sign_image.configure(image=im)\n",
    "        sign_image.image=im\n",
    "        label.configure(text='')\n",
    "        show_classify_button(file_path)\n",
    "    except:\n",
    "        pass\n"
   ]
  },
  {
   "cell_type": "code",
   "execution_count": 6,
   "id": "9b6ebc51-341a-49c4-a3f3-a17922095fef",
   "metadata": {},
   "outputs": [],
   "source": [
    "upload=Button(top,text=\"Upload\",command=upload_image,padx=20,pady=5)\n",
    "upload.configure(background='black', foreground='white',font=('arial',20,'bold'))\n"
   ]
  },
  {
   "cell_type": "code",
   "execution_count": 7,
   "id": "e5cbe168-4eeb-46c5-bdc2-c1b087ac7685",
   "metadata": {},
   "outputs": [
    {
     "name": "stdout",
     "output_type": "stream",
     "text": [
      "(1, 64, 64, 3)\n",
      "Speed limit (50km/h)\n",
      "(1, 64, 64, 3)\n",
      "Stop\n",
      "(1, 64, 64, 3)\n",
      "Bicycles crossing\n",
      "(1, 64, 64, 3)\n",
      "Speed limit (30km/h)\n",
      "(1, 64, 64, 3)\n",
      "Dangerous curve right\n",
      "(1, 64, 64, 3)\n",
      "Vehice > 3.5 tons prohibited\n",
      "(1, 64, 64, 3)\n",
      "Beware of ice/snow\n",
      "(1, 64, 64, 3)\n",
      "Beware of ice/snow\n",
      "(1, 64, 64, 3)\n",
      "Children crossing\n",
      "(1, 64, 64, 3)\n",
      "Road work\n",
      "(1, 64, 64, 3)\n",
      "Vehice > 3.5 tons prohibited\n",
      "(1, 64, 64, 3)\n",
      "Yield\n",
      "(1, 64, 64, 3)\n",
      "Right-of-way at intersection\n",
      "(1, 64, 64, 3)\n",
      "Speed limit (20km/h)\n"
     ]
    }
   ],
   "source": [
    "upload.pack(side=BOTTOM,pady=50)\n",
    "sign_image.pack(side=BOTTOM,expand=True)\n",
    "label.pack(side=BOTTOM,expand=True)\n",
    "heading = Label(top, text=\"Classify Traffic Sign\",pady=40, font=('arial',40,'bold'))\n",
    "heading.configure(background='#CDCDCD',foreground='black')\n",
    "heading.pack()\n",
    "top.mainloop()\n"
   ]
  },
  {
   "cell_type": "code",
   "execution_count": null,
   "id": "cbbc20ad-b879-43a1-8450-d5aabe5fd373",
   "metadata": {},
   "outputs": [],
   "source": []
  },
  {
   "cell_type": "code",
   "execution_count": null,
   "id": "7fdef520-ee00-4b42-97c9-b787f50496c1",
   "metadata": {},
   "outputs": [],
   "source": []
  },
  {
   "cell_type": "code",
   "execution_count": null,
   "id": "9ab8613e-a95e-4b10-9185-1351f69c9abd",
   "metadata": {},
   "outputs": [],
   "source": []
  }
 ],
 "metadata": {
  "interpreter": {
   "hash": "dcacb0086e9a4f4eabd41c33bf4faac5ea0a3337ed3f5eff0680afa930572c04"
  },
  "kernelspec": {
   "display_name": "Python 3 (ipykernel)",
   "language": "python",
   "name": "python3"
  },
  "language_info": {
   "codemirror_mode": {
    "name": "ipython",
    "version": 3
   },
   "file_extension": ".py",
   "mimetype": "text/x-python",
   "name": "python",
   "nbconvert_exporter": "python",
   "pygments_lexer": "ipython3",
   "version": "3.9.2"
  }
 },
 "nbformat": 4,
 "nbformat_minor": 5
}
