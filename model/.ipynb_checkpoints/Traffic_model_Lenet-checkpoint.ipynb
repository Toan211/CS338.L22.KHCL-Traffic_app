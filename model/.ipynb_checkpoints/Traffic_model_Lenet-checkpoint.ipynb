{
 "cells": [
  {
   "cell_type": "code",
   "execution_count": 1,
   "id": "b1a5631d-0239-4708-a81c-ed3a455a8cc1",
   "metadata": {},
   "outputs": [],
   "source": [
    "# Import required libraries\n",
    "import numpy as np \n",
    "import pandas as pd \n",
    "import matplotlib.pyplot as plt\n",
    "import cv2\n",
    "import tensorflow as tf\n",
    "from PIL import Image\n",
    "import os\n",
    "from sklearn.model_selection import train_test_split\n",
    "from tensorflow.keras.utils import to_categorical\n",
    "from tensorflow.keras.models import Sequential, load_model\n",
    "from tensorflow.keras.layers import Conv2D, MaxPool2D, Dense, Flatten, Dropout, BatchNormalization\n",
    "from skimage import transform\n",
    "from skimage import exposure\n",
    "from skimage import io\n",
    "from sklearn.utils import shuffle\n",
    "\n",
    "np.random.seed(42)\n",
    "from matplotlib import style\n",
    "style.use('fivethirtyeight')"
   ]
  },
  {
   "cell_type": "code",
   "execution_count": 2,
   "id": "e4be21a8-b62a-40ab-a3c9-0b62f324c62e",
   "metadata": {},
   "outputs": [
    {
     "name": "stdout",
     "output_type": "stream",
     "text": [
      "43\n"
     ]
    }
   ],
   "source": [
    "# Store data, labels in the list\n",
    "cur_path = \"traffic_dataset\"\n",
    "data = []\n",
    "labels = []\n",
    "num_classes = len(os.listdir(cur_path + \"\\Train\"))\n",
    "print(num_classes)"
   ]
  },
  {
   "cell_type": "code",
   "execution_count": 3,
   "id": "3a1a18a1-660d-4712-b386-34009c8f1284",
   "metadata": {},
   "outputs": [],
   "source": [
    "# Label Overview\n",
    "classes = { 0:'Speed limit (20km/h)',\n",
    "            1:'Speed limit (30km/h)', \n",
    "            2:'Speed limit (50km/h)', \n",
    "            3:'Speed limit (60km/h)', \n",
    "            4:'Speed limit (70km/h)', \n",
    "            5:'Speed limit (80km/h)', \n",
    "            6:'End of speed limit (80km/h)', \n",
    "            7:'Speed limit (100km/h)', \n",
    "            8:'Speed limit (120km/h)', \n",
    "            9:'No passing', \n",
    "            10:'No passing veh over 3.5 tons', \n",
    "            11:'Right-of-way at intersection', \n",
    "            12:'Priority road', \n",
    "            13:'Yield', \n",
    "            14:'Stop', \n",
    "            15:'No vehicles', \n",
    "            16:'Veh > 3.5 tons prohibited', \n",
    "            17:'No entry', \n",
    "            18:'General caution', \n",
    "            19:'Dangerous curve left', \n",
    "            20:'Dangerous curve right', \n",
    "            21:'Double curve', \n",
    "            22:'Bumpy road', \n",
    "            23:'Slippery road', \n",
    "            24:'Road narrows on the right', \n",
    "            25:'Road work', \n",
    "            26:'Traffic signals', \n",
    "            27:'Pedestrians', \n",
    "            28:'Children crossing', \n",
    "            29:'Bicycles crossing', \n",
    "            30:'Beware of ice/snow',\n",
    "            31:'Wild animals crossing', \n",
    "            32:'End speed + passing limits', \n",
    "            33:'Turn right ahead', \n",
    "            34:'Turn left ahead', \n",
    "            35:'Ahead only', \n",
    "            36:'Go straight or right', \n",
    "            37:'Go straight or left', \n",
    "            38:'Keep right', \n",
    "            39:'Keep left', \n",
    "            40:'Roundabout mandatory', \n",
    "            41:'End of no passing', \n",
    "            42:'End no passing veh > 3.5 tons' }"
   ]
  },
  {
   "cell_type": "code",
   "execution_count": 4,
   "id": "9344f75e-022d-4571-8d27-5b8a5d32e30b",
   "metadata": {},
   "outputs": [],
   "source": [
    "# Retrieving the images and their labels \n",
    "for i in range(num_classes):\n",
    "    path = os.path.join(cur_path,'train',str(i))\n",
    "    images = os.listdir(path)\n",
    "    \n",
    "# Preprocess the images\n",
    "    for a in images:\n",
    "        try:\n",
    "            image = Image.open(path + '\\\\'+ a)\n",
    "            image = image.resize((32,32))\n",
    "            image = np.array(image)\n",
    "            data.append(image)\n",
    "            labels.append(i)\n",
    "        except:\n",
    "            print(\"Error loading image\")\n",
    "            "
   ]
  },
  {
   "cell_type": "code",
   "execution_count": 5,
   "id": "1445a0d5-3d6c-4a1f-b7ad-11496b2060d3",
   "metadata": {},
   "outputs": [
    {
     "name": "stdout",
     "output_type": "stream",
     "text": [
      "(39209, 32, 32, 3) (39209,)\n"
     ]
    }
   ],
   "source": [
    "# Converting lists into numpy arrays\n",
    "data = np.array(data)\n",
    "labels = np.array(labels)\n",
    "print(data.shape, labels.shape)"
   ]
  },
  {
   "cell_type": "code",
   "execution_count": 6,
   "id": "147852c9-4cac-4fd9-b46f-396914e5656f",
   "metadata": {},
   "outputs": [],
   "source": [
    "#Shuffling the training data\n",
    "shuffle_indexes = np.arange(data.shape[0])\n",
    "np.random.shuffle(shuffle_indexes)\n",
    "data = data[shuffle_indexes]\n",
    "labels = labels[shuffle_indexes]"
   ]
  },
  {
   "cell_type": "code",
   "execution_count": 7,
   "id": "c3ede4b9-5af1-40ef-a5a0-8f535570a568",
   "metadata": {},
   "outputs": [
    {
     "name": "stdout",
     "output_type": "stream",
     "text": [
      "(31367, 32, 32, 3) (7842, 32, 32, 3) (31367,) (7842,)\n"
     ]
    }
   ],
   "source": [
    "# Splitting training and testing dataset\n",
    "X_train, X_test, y_train, y_test = train_test_split(data, labels, test_size=0.2, random_state=42)\n",
    "print(X_train.shape, X_test.shape, y_train.shape, y_test.shape)"
   ]
  },
  {
   "cell_type": "code",
   "execution_count": 8,
   "id": "5221d85f-4448-47b5-90b2-1d71c41ddc76",
   "metadata": {},
   "outputs": [],
   "source": [
    "# Converting the labels into one hot encoding\n",
    "y_train = to_categorical(y_train, 43)\n",
    "y_test = to_categorical(y_test, 43)"
   ]
  },
  {
   "cell_type": "code",
   "execution_count": 9,
   "id": "ecbad6c8-f783-4709-81c3-0b4c36716d24",
   "metadata": {},
   "outputs": [],
   "source": [
    "#Building the model\n",
    "model = Sequential()\n",
    "model.add(Conv2D(filters=6, kernel_size=(5,5), activation='relu', input_shape=X_train.shape[1:]))\n",
    "model.add(MaxPool2D(pool_size=(2, 2)))\n",
    "  \n",
    "model.add(Conv2D(filters=16, kernel_size=(5,5), activation='relu'))\n",
    "model.add(MaxPool2D(pool_size=(2, 2)))\n",
    "  \n",
    "model.add(Flatten())\n",
    "model.add(Dense(120, activation='relu'))\n",
    "model.add(Dense(84, activation='relu'))\n",
    "model.add(Dropout(0.5))\n",
    "model.add(Dense(43, activation='softmax'))"
   ]
  },
  {
   "cell_type": "code",
   "execution_count": 10,
   "id": "c863f594-8ad3-450a-82df-56332cfa61ee",
   "metadata": {},
   "outputs": [
    {
     "name": "stdout",
     "output_type": "stream",
     "text": [
      "Model: \"sequential\"\n",
      "_________________________________________________________________\n",
      " Layer (type)                Output Shape              Param #   \n",
      "=================================================================\n",
      " conv2d (Conv2D)             (None, 28, 28, 6)         456       \n",
      "                                                                 \n",
      " max_pooling2d (MaxPooling2D  (None, 14, 14, 6)        0         \n",
      " )                                                               \n",
      "                                                                 \n",
      " conv2d_1 (Conv2D)           (None, 10, 10, 16)        2416      \n",
      "                                                                 \n",
      " max_pooling2d_1 (MaxPooling  (None, 5, 5, 16)         0         \n",
      " 2D)                                                             \n",
      "                                                                 \n",
      " flatten (Flatten)           (None, 400)               0         \n",
      "                                                                 \n",
      " dense (Dense)               (None, 120)               48120     \n",
      "                                                                 \n",
      " dense_1 (Dense)             (None, 84)                10164     \n",
      "                                                                 \n",
      " dropout (Dropout)           (None, 84)                0         \n",
      "                                                                 \n",
      " dense_2 (Dense)             (None, 43)                3655      \n",
      "                                                                 \n",
      "=================================================================\n",
      "Total params: 64,811\n",
      "Trainable params: 64,811\n",
      "Non-trainable params: 0\n",
      "_________________________________________________________________\n",
      "None\n"
     ]
    }
   ],
   "source": [
    "print(model.summary())"
   ]
  },
  {
   "cell_type": "code",
   "execution_count": 11,
   "id": "61dde35a-7cf8-42fc-b3d3-5d8d0e34e368",
   "metadata": {},
   "outputs": [
    {
     "data": {
      "image/png": "[encoded data removed]",
      "text/plain": [
       "<PIL.Image.Image image mode=RGBA size=323x150 at 0x1F26328FAF0>"
      ]
     },
     "execution_count": 11,
     "metadata": {},
     "output_type": "execute_result"
    }
   ],
   "source": [
    "import visualkeras\n",
    "visualkeras.layered_view(model)"
   ]
  },
  {
   "cell_type": "code",
   "execution_count": 12,
   "id": "e0b84c8f-102a-43bd-9c1d-ee3e818c5ad8",
   "metadata": {},
   "outputs": [
    {
     "name": "stdout",
     "output_type": "stream",
     "text": [
      "Epoch 1/10\n",
      "981/981 [==============================] - 12s 12ms/step - loss: 2.9657 - accuracy: 0.2774 - val_loss: 1.4545 - val_accuracy: 0.5825\n",
      "Epoch 2/10\n",
      "981/981 [==============================] - 11s 11ms/step - loss: 1.4050 - accuracy: 0.5849 - val_loss: 0.7829 - val_accuracy: 0.7691\n",
      "Epoch 3/10\n",
      "981/981 [==============================] - 11s 11ms/step - loss: 0.9391 - accuracy: 0.7192 - val_loss: 0.5270 - val_accuracy: 0.8509\n",
      "Epoch 4/10\n",
      "981/981 [==============================] - 11s 11ms/step - loss: 0.6889 - accuracy: 0.7991 - val_loss: 0.3538 - val_accuracy: 0.9009\n",
      "Epoch 5/10\n",
      "981/981 [==============================] - 11s 11ms/step - loss: 0.5391 - accuracy: 0.8481 - val_loss: 0.3643 - val_accuracy: 0.8970\n",
      "Epoch 6/10\n",
      "981/981 [==============================] - 11s 11ms/step - loss: 0.4372 - accuracy: 0.8771 - val_loss: 0.3023 - val_accuracy: 0.9125\n",
      "Epoch 7/10\n",
      "981/981 [==============================] - 11s 11ms/step - loss: 0.3786 - accuracy: 0.8959 - val_loss: 0.2127 - val_accuracy: 0.9447\n",
      "Epoch 8/10\n",
      "981/981 [==============================] - 11s 12ms/step - loss: 0.3171 - accuracy: 0.9094 - val_loss: 0.2519 - val_accuracy: 0.9339\n",
      "Epoch 9/10\n",
      "981/981 [==============================] - 11s 11ms/step - loss: 0.3007 - accuracy: 0.9175 - val_loss: 0.2220 - val_accuracy: 0.9444\n",
      "Epoch 10/10\n",
      "981/981 [==============================] - 11s 12ms/step - loss: 0.2620 - accuracy: 0.9289 - val_loss: 0.2141 - val_accuracy: 0.9466\n"
     ]
    }
   ],
   "source": [
    "# Compilation of the model\n",
    "model.compile(loss='categorical_crossentropy', optimizer='adam', metrics=['accuracy'])\n",
    "\n",
    "epochs = 10\n",
    "history = model.fit(X_train, y_train, batch_size=32, epochs=epochs, validation_data=(X_test, y_test))"
   ]
  },
  {
   "cell_type": "code",
   "execution_count": 13,
   "id": "e0082442-761d-4eab-be67-db52057db8c4",
   "metadata": {},
   "outputs": [
    {
     "data": {
      "image/png": "[encoded data removed]",
      "text/plain": [
       "<Figure size 432x288 with 1 Axes>"
      ]
     },
     "metadata": {},
     "output_type": "display_data"
    }
   ],
   "source": [
    "# Plotting graphs for Accuracy \n",
    "plt.figure(0)\n",
    "plt.plot(history.history['accuracy'], label='training accuracy')\n",
    "plt.plot(history.history['val_accuracy'], label='val accuracy')\n",
    "plt.title('Accuracy')\n",
    "plt.xlabel('epochs')\n",
    "plt.ylabel('accuracy')\n",
    "plt.legend()\n",
    "plt.show()"
   ]
  },
  {
   "cell_type": "code",
   "execution_count": 14,
   "id": "0ce7fa00-185a-4195-9de5-0e017f87840f",
   "metadata": {},
   "outputs": [
    {
     "data": {
      "image/png": "[encoded data removed]",
      "text/plain": [
       "<Figure size 432x288 with 1 Axes>"
      ]
     },
     "metadata": {},
     "output_type": "display_data"
    }
   ],
   "source": [
    "# Plotting graphs for loss\n",
    "plt.figure(1)\n",
    "plt.plot(history.history['loss'], label='training loss')\n",
    "plt.plot(history.history['val_loss'], label='val loss')\n",
    "plt.title('Loss')\n",
    "plt.xlabel('epochs')\n",
    "plt.ylabel('loss')\n",
    "plt.legend()\n",
    "plt.show()"
   ]
  },
  {
   "cell_type": "code",
   "execution_count": 15,
   "id": "081035d4-949e-4580-9928-45ab749b994b",
   "metadata": {},
   "outputs": [],
   "source": [
    "# Testing accuracy on test dataset\n",
    "from sklearn.metrics import accuracy_score\n",
    "\n",
    "y_test = pd.read_csv(\"traffic_dataset\\Test.csv\")\n",
    "\n",
    "labels = y_test[\"ClassId\"].values\n",
    "imgs = y_test[\"Path\"].values\n",
    "\n",
    "data=[]"
   ]
  },
  {
   "cell_type": "code",
   "execution_count": 16,
   "id": "e26186d4-188f-4b21-8cf2-e5493ced33b5",
   "metadata": {},
   "outputs": [],
   "source": [
    "for img in imgs:\n",
    "    image = Image.open(cur_path + '\\\\'+ img)\n",
    "    image = image.resize((32,32))\n",
    "    data.append(np.array(image))\n",
    "    \n",
    "X_test=np.array(data)\n",
    "\n",
    "pred = np.argmax(model.predict(X_test), axis=-1)"
   ]
  },
  {
   "cell_type": "code",
   "execution_count": 17,
   "id": "9561924d-7c75-4e8e-93dd-8707af220759",
   "metadata": {},
   "outputs": [
    {
     "name": "stdout",
     "output_type": "stream",
     "text": [
      "0.8880443388756928\n"
     ]
    }
   ],
   "source": [
    "#Accuracy with the test data\n",
    "from sklearn.metrics import accuracy_score\n",
    "print(accuracy_score(labels, pred))"
   ]
  },
  {
   "cell_type": "code",
   "execution_count": null,
   "id": "81047bb3-e66b-41d2-91b4-efa5a7fbd5a5",
   "metadata": {},
   "outputs": [],
   "source": []
  }
 ],
 "metadata": {
  "kernelspec": {
   "display_name": "Python 3 (ipykernel)",
   "language": "python",
   "name": "python3"
  },
  "language_info": {
   "codemirror_mode": {
    "name": "ipython",
    "version": 3
   },
   "file_extension": ".py",
   "mimetype": "text/x-python",
   "name": "python",
   "nbconvert_exporter": "python",
   "pygments_lexer": "ipython3",
   "version": "3.9.7"
  }
 },
 "nbformat": 4,
 "nbformat_minor": 5
}
