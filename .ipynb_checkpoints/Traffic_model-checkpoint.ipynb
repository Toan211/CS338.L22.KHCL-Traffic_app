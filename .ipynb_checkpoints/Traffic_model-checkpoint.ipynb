{
 "cells": [
  {
   "cell_type": "code",
   "execution_count": 2,
   "id": "b1a5631d-0239-4708-a81c-ed3a455a8cc1",
   "metadata": {},
   "outputs": [],
   "source": [
    "import numpy as np \n",
    "import pandas as pd \n",
    "import matplotlib.pyplot as plt\n",
    "import cv2\n",
    "import tensorflow as tf\n",
    "from PIL import Image\n",
    "import os\n",
    "from sklearn.model_selection import train_test_split\n",
    "from tensorflow.keras.utils import to_categorical\n",
    "from tensorflow.keras.models import Sequential, load_model\n",
    "from tensorflow.keras.layers import Conv2D, MaxPool2D, Dense, Flatten, Dropout\n",
    "\n",
    "np.random.seed(42)\n",
    "from matplotlib import style\n",
    "style.use('fivethirtyeight')"
   ]
  },
  {
   "cell_type": "markdown",
   "id": "051c9736-e753-42f7-8910-d783a373e384",
   "metadata": {},
   "source": [
    "## Store data, labels in the list\n",
    "## Then preprocess the images"
   ]
  },
  {
   "cell_type": "code",
   "execution_count": null,
   "id": "e4be21a8-b62a-40ab-a3c9-0b62f324c62e",
   "metadata": {},
   "outputs": [],
   "source": [
    "data = []\n",
    "labels = []\n",
    "classes = 43\n",
    "cur_path = \"traffic_dataset\"\n",
    "\n",
    "#Retrieving the images and their labels \n",
    "for i in range(classes):\n",
    "    path = os.path.join(cur_path,'train',str(i))\n",
    "    images = os.listdir(path)\n",
    "    \n",
    "# Preprocess the images\n",
    "    for a in images:\n",
    "        try:\n",
    "            image = Image.open(path + '\\\\'+ a)\n",
    "            image = image.resize((30,30))\n",
    "            image = np.array(image)\n",
    "            #sim = Image.fromarray(image)\n",
    "            data.append(image)\n",
    "            labels.append(i)\n",
    "        except:\n",
    "            print(\"Error loading image\")"
   ]
  },
  {
   "cell_type": "code",
   "execution_count": 24,
   "id": "1445a0d5-3d6c-4a1f-b7ad-11496b2060d3",
   "metadata": {},
   "outputs": [
    {
     "name": "stdout",
     "output_type": "stream",
     "text": [
      "(39209, 30, 30, 3) (39209,)\n",
      "(31367, 30, 30, 3) (7842, 30, 30, 3) (31367,) (7842,)\n"
     ]
    }
   ],
   "source": [
    "#Converting lists into numpy arrays\n",
    "data = np.array(data)\n",
    "labels = np.array(labels)\n",
    "\n",
    "print(data.shape, labels.shape)\n",
    "#Splitting training and testing dataset\n",
    "X_train, X_test, y_train, y_test = train_test_split(data, labels, test_size=0.2, random_state=42)\n",
    "\n",
    "print(X_train.shape, X_test.shape, y_train.shape, y_test.shape)\n",
    "\n",
    "#Converting the labels into one hot encoding\n",
    "y_train = to_categorical(y_train, 43)\n",
    "y_test = to_categorical(y_test, 43)"
   ]
  },
  {
   "cell_type": "code",
   "execution_count": 25,
   "id": "ecbad6c8-f783-4709-81c3-0b4c36716d24",
   "metadata": {},
   "outputs": [],
   "source": [
    "#Building the model\n",
    "model = Sequential()\n",
    "model.add(Conv2D(filters=32, kernel_size=(5,5), activation='relu', input_shape=X_train.shape[1:]))\n",
    "model.add(Conv2D(filters=32, kernel_size=(5,5), activation='relu'))\n",
    "model.add(MaxPool2D(pool_size=(2, 2)))\n",
    "model.add(Dropout(rate=0.25))\n",
    "model.add(Conv2D(filters=64, kernel_size=(3, 3), activation='relu'))\n",
    "model.add(Conv2D(filters=64, kernel_size=(3, 3), activation='relu'))\n",
    "model.add(MaxPool2D(pool_size=(2, 2)))\n",
    "model.add(Dropout(rate=0.25))\n",
    "model.add(Flatten())\n",
    "model.add(Dense(256, activation='relu'))\n",
    "model.add(Dropout(rate=0.5))\n",
    "model.add(Dense(43, activation='softmax'))\n"
   ]
  },
  {
   "cell_type": "code",
   "execution_count": 26,
   "id": "c863f594-8ad3-450a-82df-56332cfa61ee",
   "metadata": {},
   "outputs": [
    {
     "name": "stdout",
     "output_type": "stream",
     "text": [
      "Model: \"sequential_2\"\n",
      "_________________________________________________________________\n",
      "Layer (type)                 Output Shape              Param #   \n",
      "=================================================================\n",
      "conv2d_8 (Conv2D)            (None, 26, 26, 32)        2432      \n",
      "_________________________________________________________________\n",
      "conv2d_9 (Conv2D)            (None, 22, 22, 32)        25632     \n",
      "_________________________________________________________________\n",
      "max_pooling2d_4 (MaxPooling2 (None, 11, 11, 32)        0         \n",
      "_________________________________________________________________\n",
      "dropout_6 (Dropout)          (None, 11, 11, 32)        0         \n",
      "_________________________________________________________________\n",
      "conv2d_10 (Conv2D)           (None, 9, 9, 64)          18496     \n",
      "_________________________________________________________________\n",
      "conv2d_11 (Conv2D)           (None, 7, 7, 64)          36928     \n",
      "_________________________________________________________________\n",
      "max_pooling2d_5 (MaxPooling2 (None, 3, 3, 64)          0         \n",
      "_________________________________________________________________\n",
      "dropout_7 (Dropout)          (None, 3, 3, 64)          0         \n",
      "_________________________________________________________________\n",
      "flatten_2 (Flatten)          (None, 576)               0         \n",
      "_________________________________________________________________\n",
      "dense_4 (Dense)              (None, 256)               147712    \n",
      "_________________________________________________________________\n",
      "dropout_8 (Dropout)          (None, 256)               0         \n",
      "_________________________________________________________________\n",
      "dense_5 (Dense)              (None, 43)                11051     \n",
      "=================================================================\n",
      "Total params: 242,251\n",
      "Trainable params: 242,251\n",
      "Non-trainable params: 0\n",
      "_________________________________________________________________\n",
      "None\n"
     ]
    }
   ],
   "source": [
    "print(model.summary())"
   ]
  },
  {
   "cell_type": "code",
   "execution_count": 27,
   "id": "e0b84c8f-102a-43bd-9c1d-ee3e818c5ad8",
   "metadata": {},
   "outputs": [
    {
     "name": "stdout",
     "output_type": "stream",
     "text": [
      "Epoch 1/15\n",
      "981/981 [==============================] - 30s 30ms/step - loss: 1.9152 - accuracy: 0.5080 - val_loss: 0.6630 - val_accuracy: 0.8460\n",
      "Epoch 2/15\n",
      "981/981 [==============================] - 30s 30ms/step - loss: 0.8427 - accuracy: 0.7472 - val_loss: 0.3250 - val_accuracy: 0.9129\n",
      "Epoch 3/15\n",
      "981/981 [==============================] - 29s 30ms/step - loss: 0.5471 - accuracy: 0.8337 - val_loss: 0.2432 - val_accuracy: 0.9336\n",
      "Epoch 4/15\n",
      "981/981 [==============================] - 29s 30ms/step - loss: 0.4317 - accuracy: 0.8723 - val_loss: 0.1436 - val_accuracy: 0.9634\n",
      "Epoch 5/15\n",
      "981/981 [==============================] - 29s 30ms/step - loss: 0.3734 - accuracy: 0.8895 - val_loss: 0.1667 - val_accuracy: 0.9507\n",
      "Epoch 6/15\n",
      "981/981 [==============================] - 29s 30ms/step - loss: 0.3537 - accuracy: 0.8958 - val_loss: 0.1876 - val_accuracy: 0.9505\n",
      "Epoch 7/15\n",
      "981/981 [==============================] - 29s 30ms/step - loss: 0.3172 - accuracy: 0.9071 - val_loss: 0.0929 - val_accuracy: 0.9750\n",
      "Epoch 8/15\n",
      "981/981 [==============================] - 29s 30ms/step - loss: 0.2850 - accuracy: 0.9162 - val_loss: 0.0911 - val_accuracy: 0.9765\n",
      "Epoch 9/15\n",
      "981/981 [==============================] - 29s 30ms/step - loss: 0.2664 - accuracy: 0.9218 - val_loss: 0.0872 - val_accuracy: 0.9758\n",
      "Epoch 10/15\n",
      "981/981 [==============================] - 28s 29ms/step - loss: 0.2569 - accuracy: 0.9236 - val_loss: 0.0827 - val_accuracy: 0.9765\n",
      "Epoch 11/15\n",
      "981/981 [==============================] - 28s 28ms/step - loss: 0.2400 - accuracy: 0.9297 - val_loss: 0.0971 - val_accuracy: 0.9728\n",
      "Epoch 12/15\n",
      "981/981 [==============================] - 28s 28ms/step - loss: 0.2469 - accuracy: 0.9303 - val_loss: 0.0734 - val_accuracy: 0.9810\n",
      "Epoch 13/15\n",
      "981/981 [==============================] - 28s 28ms/step - loss: 0.2309 - accuracy: 0.9316 - val_loss: 0.0654 - val_accuracy: 0.9837\n",
      "Epoch 14/15\n",
      "981/981 [==============================] - 29s 29ms/step - loss: 0.2530 - accuracy: 0.9284 - val_loss: 0.1005 - val_accuracy: 0.9719\n",
      "Epoch 15/15\n",
      "981/981 [==============================] - 29s 30ms/step - loss: 0.2174 - accuracy: 0.9363 - val_loss: 0.0645 - val_accuracy: 0.9815\n"
     ]
    }
   ],
   "source": [
    "#Compilation of the model\n",
    "model.compile(loss='categorical_crossentropy', optimizer='adam', metrics=['accuracy'])\n",
    "\n",
    "epochs = 15\n",
    "history = model.fit(X_train, y_train, batch_size=32, epochs=epochs, validation_data=(X_test, y_test))\n",
    "model.save(\"model/traffic_classifier.h5\")"
   ]
  },
  {
   "cell_type": "code",
   "execution_count": 28,
   "id": "e0082442-761d-4eab-be67-db52057db8c4",
   "metadata": {},
   "outputs": [
    {
     "data": {
      "image/png": "[encoded data removed]",
      "text/plain": [
       "<Figure size 432x288 with 1 Axes>"
      ]
     },
     "metadata": {},
     "output_type": "display_data"
    }
   ],
   "source": [
    "#plotting graphs for accuracy \n",
    "plt.figure(0)\n",
    "plt.plot(history.history['accuracy'], label='training accuracy')\n",
    "plt.plot(history.history['val_accuracy'], label='val accuracy')\n",
    "plt.title('Accuracy')\n",
    "plt.xlabel('epochs')\n",
    "plt.ylabel('accuracy')\n",
    "plt.legend()\n",
    "plt.show()"
   ]
  },
  {
   "cell_type": "code",
   "execution_count": 29,
   "id": "0ce7fa00-185a-4195-9de5-0e017f87840f",
   "metadata": {},
   "outputs": [
    {
     "data": {
      "image/png": "[encoded data removed]",
      "text/plain": [
       "<Figure size 432x288 with 1 Axes>"
      ]
     },
     "metadata": {},
     "output_type": "display_data"
    }
   ],
   "source": [
    "plt.figure(1)\n",
    "plt.plot(history.history['loss'], label='training loss')\n",
    "plt.plot(history.history['val_loss'], label='val loss')\n",
    "plt.title('Loss')\n",
    "plt.xlabel('epochs')\n",
    "plt.ylabel('loss')\n",
    "plt.legend()\n",
    "plt.show()"
   ]
  },
  {
   "cell_type": "code",
   "execution_count": 30,
   "id": "081035d4-949e-4580-9928-45ab749b994b",
   "metadata": {},
   "outputs": [],
   "source": [
    "#testing accuracy on test dataset\n",
    "from sklearn.metrics import accuracy_score\n",
    "\n",
    "y_test = pd.read_csv(\"traffic_dataset\\Test.csv\")\n",
    "\n",
    "labels = y_test[\"ClassId\"].values\n",
    "imgs = y_test[\"Path\"].values\n",
    "\n",
    "data=[]"
   ]
  },
  {
   "cell_type": "code",
   "execution_count": 31,
   "id": "e26186d4-188f-4b21-8cf2-e5493ced33b5",
   "metadata": {},
   "outputs": [],
   "source": [
    "for img in imgs:\n",
    "    image = Image.open(cur_path + '\\\\'+ img)\n",
    "    image = image.resize((30,30))\n",
    "    data.append(np.array(image))\n",
    "\n",
    "X_test=np.array(data)\n",
    "\n",
    "pred = np.argmax(model.predict(X_test), axis=-1)\n",
    "\n"
   ]
  },
  {
   "cell_type": "code",
   "execution_count": 32,
   "id": "9561924d-7c75-4e8e-93dd-8707af220759",
   "metadata": {},
   "outputs": [
    {
     "name": "stdout",
     "output_type": "stream",
     "text": [
      "0.9460807600950119\n"
     ]
    }
   ],
   "source": [
    "#Accuracy with the test data\n",
    "from sklearn.metrics import accuracy_score\n",
    "print(accuracy_score(labels, pred))\n",
    "\n",
    "\n",
    "_, train_acc = saved_model.evaluate(x_train, y_train, verbose=0)\n",
    "_, test_acc = saved_model.evaluate(x_test, y_test, verbose=0)\n",
    "print('Train: %.3f, Test: %.3f' % (train_acc, test_acc))"
   ]
  },
  {
   "cell_type": "code",
   "execution_count": 33,
   "id": "3c7c5e2f-c4d9-4443-961c-98cfd1a291e0",
   "metadata": {},
   "outputs": [],
   "source": [
    "model.save(\"model/traffic_classifier.h5\")"
   ]
  },
  {
   "cell_type": "code",
   "execution_count": null,
   "id": "30dd357e-102f-44e9-b25e-2948e2609d90",
   "metadata": {},
   "outputs": [],
   "source": []
  }
 ],
 "metadata": {
  "kernelspec": {
   "display_name": "Python 3 (ipykernel)",
   "language": "python",
   "name": "python3"
  },
  "language_info": {
   "codemirror_mode": {
    "name": "ipython",
    "version": 3
   },
   "file_extension": ".py",
   "mimetype": "text/x-python",
   "name": "python",
   "nbconvert_exporter": "python",
   "pygments_lexer": "ipython3",
   "version": "3.9.2"
  }
 },
 "nbformat": 4,
 "nbformat_minor": 5
}
