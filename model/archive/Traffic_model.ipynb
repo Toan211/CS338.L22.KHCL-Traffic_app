{
 "cells": [
  {
   "cell_type": "code",
   "execution_count": 80,
   "id": "b1a5631d-0239-4708-a81c-ed3a455a8cc1",
   "metadata": {},
   "outputs": [],
   "source": [
    "# Import required libraries\n",
    "import numpy as np \n",
    "import pandas as pd \n",
    "import matplotlib.pyplot as plt\n",
    "import cv2\n",
    "import tensorflow as tf\n",
    "from PIL import Image\n",
    "import os\n",
    "from sklearn.model_selection import train_test_split\n",
    "from tensorflow.keras.utils import to_categorical\n",
    "from tensorflow.keras.models import Sequential, load_model\n",
    "from tensorflow.keras.layers import Conv2D, MaxPool2D, Dense, Flatten, Dropout\n",
    "\n",
    "np.random.seed(42)\n",
    "from matplotlib import style\n",
    "style.use('fivethirtyeight')"
   ]
  },
  {
   "cell_type": "code",
   "execution_count": 81,
   "id": "e4be21a8-b62a-40ab-a3c9-0b62f324c62e",
   "metadata": {},
   "outputs": [],
   "source": [
    "# Store data, labels in the list\n",
    "data = []\n",
    "labels = []\n",
    "classes = 43\n",
    "cur_path = \"traffic_dataset\""
   ]
  },
  {
   "cell_type": "code",
   "execution_count": 82,
   "id": "dba67208-9f51-40c8-ad84-3155fcd7fc8b",
   "metadata": {},
   "outputs": [],
   "source": [
    "# Retrieving the images and their labels \n",
    "for i in range(classes):\n",
    "    path = os.path.join(cur_path,'train',str(i))\n",
    "    images = os.listdir(path)\n",
    "    \n",
    "# Preprocess the images\n",
    "    for a in images:\n",
    "        try:\n",
    "            image = Image.open(path + '\\\\'+ a)\n",
    "            image = image.resize((30,30))\n",
    "            image = np.array(image)\n",
    "            data.append(image)\n",
    "            labels.append(i)\n",
    "        except:\n",
    "            print(\"Error loading image\")"
   ]
  },
  {
   "cell_type": "code",
   "execution_count": 83,
   "id": "1445a0d5-3d6c-4a1f-b7ad-11496b2060d3",
   "metadata": {},
   "outputs": [
    {
     "name": "stdout",
     "output_type": "stream",
     "text": [
      "(39209, 30, 30, 3) (39209,)\n"
     ]
    }
   ],
   "source": [
    "# Converting lists into numpy arrays\n",
    "data = np.array(data)\n",
    "labels = np.array(labels)\n",
    "print(data.shape, labels.shape)"
   ]
  },
  {
   "cell_type": "code",
   "execution_count": 84,
   "id": "c3ede4b9-5af1-40ef-a5a0-8f535570a568",
   "metadata": {},
   "outputs": [
    {
     "name": "stdout",
     "output_type": "stream",
     "text": [
      "(31367, 30, 30, 3) (7842, 30, 30, 3) (31367,) (7842,)\n"
     ]
    }
   ],
   "source": [
    "# Splitting training and testing dataset\n",
    "X_train, X_test, y_train, y_test = train_test_split(data, labels, test_size=0.2, random_state=42)\n",
    "print(X_train.shape, X_test.shape, y_train.shape, y_test.shape)"
   ]
  },
  {
   "cell_type": "code",
   "execution_count": 85,
   "id": "5221d85f-4448-47b5-90b2-1d71c41ddc76",
   "metadata": {},
   "outputs": [],
   "source": [
    "# Converting the labels into one hot encoding\n",
    "y_train = to_categorical(y_train, 43)\n",
    "y_test = to_categorical(y_test, 43)"
   ]
  },
  {
   "cell_type": "code",
   "execution_count": 86,
   "id": "ecbad6c8-f783-4709-81c3-0b4c36716d24",
   "metadata": {},
   "outputs": [],
   "source": [
    "#Building the model\n",
    "model = Sequential()\n",
    "model.add(Conv2D(filters=32, kernel_size=(5,5), activation='relu', input_shape=X_train.shape[1:]))\n",
    "model.add(Conv2D(filters=32, kernel_size=(5,5), activation='relu'))\n",
    "model.add(MaxPool2D(pool_size=(2, 2)))\n",
    "model.add(Dropout(rate=0.25))\n",
    "model.add(Conv2D(filters=64, kernel_size=(3, 3), activation='relu'))\n",
    "model.add(Conv2D(filters=64, kernel_size=(3, 3), activation='relu'))\n",
    "model.add(MaxPool2D(pool_size=(2, 2)))\n",
    "model.add(Dropout(rate=0.25))\n",
    "model.add(Flatten())\n",
    "model.add(Dense(256, activation='relu'))\n",
    "model.add(Dropout(rate=0.5))\n",
    "model.add(Dense(43, activation='softmax'))"
   ]
  },
  {
   "cell_type": "code",
   "execution_count": 87,
   "id": "c863f594-8ad3-450a-82df-56332cfa61ee",
   "metadata": {},
   "outputs": [
    {
     "name": "stdout",
     "output_type": "stream",
     "text": [
      "Model: \"sequential_4\"\n",
      "_________________________________________________________________\n",
      "Layer (type)                 Output Shape              Param #   \n",
      "=================================================================\n",
      "conv2d_16 (Conv2D)           (None, 26, 26, 32)        2432      \n",
      "_________________________________________________________________\n",
      "conv2d_17 (Conv2D)           (None, 22, 22, 32)        25632     \n",
      "_________________________________________________________________\n",
      "max_pooling2d_8 (MaxPooling2 (None, 11, 11, 32)        0         \n",
      "_________________________________________________________________\n",
      "dropout_12 (Dropout)         (None, 11, 11, 32)        0         \n",
      "_________________________________________________________________\n",
      "conv2d_18 (Conv2D)           (None, 9, 9, 64)          18496     \n",
      "_________________________________________________________________\n",
      "conv2d_19 (Conv2D)           (None, 7, 7, 64)          36928     \n",
      "_________________________________________________________________\n",
      "max_pooling2d_9 (MaxPooling2 (None, 3, 3, 64)          0         \n",
      "_________________________________________________________________\n",
      "dropout_13 (Dropout)         (None, 3, 3, 64)          0         \n",
      "_________________________________________________________________\n",
      "flatten_4 (Flatten)          (None, 576)               0         \n",
      "_________________________________________________________________\n",
      "dense_8 (Dense)              (None, 256)               147712    \n",
      "_________________________________________________________________\n",
      "dropout_14 (Dropout)         (None, 256)               0         \n",
      "_________________________________________________________________\n",
      "dense_9 (Dense)              (None, 43)                11051     \n",
      "=================================================================\n",
      "Total params: 242,251\n",
      "Trainable params: 242,251\n",
      "Non-trainable params: 0\n",
      "_________________________________________________________________\n",
      "None\n"
     ]
    }
   ],
   "source": [
    "print(model.summary())"
   ]
  },
  {
   "cell_type": "code",
   "execution_count": 88,
   "id": "e0b84c8f-102a-43bd-9c1d-ee3e818c5ad8",
   "metadata": {},
   "outputs": [
    {
     "name": "stdout",
     "output_type": "stream",
     "text": [
      "Epoch 1/15\n",
      "981/981 [==============================] - 35s 35ms/step - loss: 1.9303 - accuracy: 0.4951 - val_loss: 0.6403 - val_accuracy: 0.8257\n",
      "Epoch 2/15\n",
      "981/981 [==============================] - 32s 32ms/step - loss: 0.7091 - accuracy: 0.7955 - val_loss: 0.2144 - val_accuracy: 0.9504\n",
      "Epoch 3/15\n",
      "981/981 [==============================] - 33s 34ms/step - loss: 0.4546 - accuracy: 0.8665 - val_loss: 0.1454 - val_accuracy: 0.9634\n",
      "Epoch 4/15\n",
      "981/981 [==============================] - 33s 33ms/step - loss: 0.3773 - accuracy: 0.8887 - val_loss: 0.1442 - val_accuracy: 0.9621\n",
      "Epoch 5/15\n",
      "981/981 [==============================] - 33s 33ms/step - loss: 0.3045 - accuracy: 0.9114 - val_loss: 0.0885 - val_accuracy: 0.9783\n",
      "Epoch 6/15\n",
      "981/981 [==============================] - 33s 33ms/step - loss: 0.2745 - accuracy: 0.9206 - val_loss: 0.0933 - val_accuracy: 0.9745\n",
      "Epoch 7/15\n",
      "981/981 [==============================] - 33s 33ms/step - loss: 0.2646 - accuracy: 0.9255 - val_loss: 0.0663 - val_accuracy: 0.9818\n",
      "Epoch 8/15\n",
      "981/981 [==============================] - 33s 33ms/step - loss: 0.2481 - accuracy: 0.9291 - val_loss: 0.1014 - val_accuracy: 0.9739\n",
      "Epoch 9/15\n",
      "981/981 [==============================] - 31s 32ms/step - loss: 0.2333 - accuracy: 0.9345 - val_loss: 0.0883 - val_accuracy: 0.9744\n",
      "Epoch 10/15\n",
      "981/981 [==============================] - 31s 31ms/step - loss: 0.2175 - accuracy: 0.9385 - val_loss: 0.0944 - val_accuracy: 0.9732\n",
      "Epoch 11/15\n",
      "981/981 [==============================] - 31s 32ms/step - loss: 0.2193 - accuracy: 0.9397 - val_loss: 0.0582 - val_accuracy: 0.9837\n",
      "Epoch 12/15\n",
      "981/981 [==============================] - 30s 31ms/step - loss: 0.2000 - accuracy: 0.9463 - val_loss: 0.0590 - val_accuracy: 0.9829\n",
      "Epoch 13/15\n",
      "981/981 [==============================] - 30s 31ms/step - loss: 0.1905 - accuracy: 0.9488 - val_loss: 0.0744 - val_accuracy: 0.9793\n",
      "Epoch 14/15\n",
      "981/981 [==============================] - 30s 31ms/step - loss: 0.2016 - accuracy: 0.9461 - val_loss: 0.1052 - val_accuracy: 0.9732\n",
      "Epoch 15/15\n",
      "981/981 [==============================] - 30s 31ms/step - loss: 0.1935 - accuracy: 0.9480 - val_loss: 0.0475 - val_accuracy: 0.9872\n"
     ]
    }
   ],
   "source": [
    "# Compilation of the model\n",
    "model.compile(loss='categorical_crossentropy', optimizer='adam', metrics=['accuracy'])\n",
    "\n",
    "epochs = 15\n",
    "history = model.fit(X_train, y_train, batch_size=32, epochs=epochs, validation_data=(X_test, y_test))"
   ]
  },
  {
   "cell_type": "code",
   "execution_count": 89,
   "id": "0aa6526e-fdff-4ffe-905b-0259a2c6c98f",
   "metadata": {},
   "outputs": [],
   "source": [
    "model.save('model/traffic_classifier.h5')"
   ]
  },
  {
   "cell_type": "code",
   "execution_count": 90,
   "id": "e0082442-761d-4eab-be67-db52057db8c4",
   "metadata": {},
   "outputs": [
    {
     "data": {
      "image/png": "[encoded data removed]",
      "text/plain": [
       "<Figure size 432x288 with 1 Axes>"
      ]
     },
     "metadata": {},
     "output_type": "display_data"
    }
   ],
   "source": [
    "# Plotting graphs for Accuracy \n",
    "plt.figure(0)\n",
    "plt.plot(history.history['accuracy'], label='training accuracy')\n",
    "plt.plot(history.history['val_accuracy'], label='val accuracy')\n",
    "plt.title('Accuracy')\n",
    "plt.xlabel('epochs')\n",
    "plt.ylabel('accuracy')\n",
    "plt.legend()\n",
    "plt.show()"
   ]
  },
  {
   "cell_type": "code",
   "execution_count": 91,
   "id": "0ce7fa00-185a-4195-9de5-0e017f87840f",
   "metadata": {},
   "outputs": [
    {
     "data": {
      "image/png": "[encoded data removed]",
      "text/plain": [
       "<Figure size 432x288 with 1 Axes>"
      ]
     },
     "metadata": {},
     "output_type": "display_data"
    }
   ],
   "source": [
    "# Plotting graphs for loss\n",
    "plt.figure(1)\n",
    "plt.plot(history.history['loss'], label='training loss')\n",
    "plt.plot(history.history['val_loss'], label='val loss')\n",
    "plt.title('Loss')\n",
    "plt.xlabel('epochs')\n",
    "plt.ylabel('loss')\n",
    "plt.legend()\n",
    "plt.show()"
   ]
  },
  {
   "cell_type": "code",
   "execution_count": 92,
   "id": "081035d4-949e-4580-9928-45ab749b994b",
   "metadata": {},
   "outputs": [],
   "source": [
    "# Testing accuracy on test dataset\n",
    "from sklearn.metrics import accuracy_score\n",
    "\n",
    "y_test = pd.read_csv(\"traffic_dataset\\Test.csv\")\n",
    "\n",
    "labels = y_test[\"ClassId\"].values\n",
    "imgs = y_test[\"Path\"].values\n",
    "\n",
    "data=[]"
   ]
  },
  {
   "cell_type": "code",
   "execution_count": 93,
   "id": "e26186d4-188f-4b21-8cf2-e5493ced33b5",
   "metadata": {},
   "outputs": [],
   "source": [
    "for img in imgs:\n",
    "    image = Image.open(cur_path + '\\\\'+ img)\n",
    "    image = image.resize((30,30))\n",
    "    data.append(np.array(image))\n",
    "\n",
    "X_test=np.array(data)\n",
    "\n",
    "pred = np.argmax(model.predict(X_test), axis=-1)"
   ]
  },
  {
   "cell_type": "code",
   "execution_count": 94,
   "id": "9561924d-7c75-4e8e-93dd-8707af220759",
   "metadata": {},
   "outputs": [
    {
     "name": "stdout",
     "output_type": "stream",
     "text": [
      "0.9519398258115598\n"
     ]
    }
   ],
   "source": [
    "#Accuracy with the test data\n",
    "from sklearn.metrics import accuracy_score\n",
    "print(accuracy_score(labels, pred))"
   ]
  },
  {
   "cell_type": "code",
   "execution_count": 95,
   "id": "3c7c5e2f-c4d9-4443-961c-98cfd1a291e0",
   "metadata": {},
   "outputs": [],
   "source": [
    "model.save('traffic_classifier095.h5')"
   ]
  },
  {
   "cell_type": "code",
   "execution_count": null,
   "id": "30dd357e-102f-44e9-b25e-2948e2609d90",
   "metadata": {},
   "outputs": [],
   "source": []
  }
 ],
 "metadata": {
  "kernelspec": {
   "display_name": "Python 3 (ipykernel)",
   "language": "python",
   "name": "python3"
  },
  "language_info": {
   "codemirror_mode": {
    "name": "ipython",
    "version": 3
   },
   "file_extension": ".py",
   "mimetype": "text/x-python",
   "name": "python",
   "nbconvert_exporter": "python",
   "pygments_lexer": "ipython3",
   "version": "3.9.2"
  }
 },
 "nbformat": 4,
 "nbformat_minor": 5
}